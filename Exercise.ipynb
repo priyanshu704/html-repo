{
  "nbformat": 4,
  "nbformat_minor": 0,
  "metadata": {
    "colab": {
      "provenance": [],
      "gpuType": "T4"
    },
    "kernelspec": {
      "name": "python3",
      "display_name": "Python 3"
    },
    "language_info": {
      "name": "python"
    },
    "accelerator": "GPU"
  },
  "cells": [
    {
      "cell_type": "code",
      "execution_count": null,
      "metadata": {
        "colab": {
          "base_uri": "https://localhost:8080/"
        },
        "id": "ykpO-B3rfeW2",
        "outputId": "210762cb-8c8b-4009-ba21-7a301fbff82f"
      },
      "outputs": [
        {
          "output_type": "stream",
          "name": "stdout",
          "text": [
            "Enter the first number: 12\n",
            "Enter the second number: 46\n",
            "The greatest number is: 46.0\n"
          ]
        }
      ],
      "source": [
        "# Function to find the greatest of two numbers\n",
        "def find_greatest(num1, num2):\n",
        "    if num1 > num2:\n",
        "        return num1\n",
        "    else:\n",
        "        return num2\n",
        "\n",
        "# Input from the user\n",
        "number1 = float(input(\"Enter the first number: \"))\n",
        "number2 = float(input(\"Enter the second number: \"))\n",
        "\n",
        "# Find the greatest number\n",
        "greatest = find_greatest(number1, number2)\n",
        "\n",
        "# Output the result\n",
        "print(\"The greatest number is:\", greatest)"
      ]
    },
    {
      "cell_type": "code",
      "source": [
        "# Creating an array (list) in Python\n",
        "numbers = [1, 2, 3, 4, 5]\n",
        "print(\"Array:\", numbers)\n"
      ],
      "metadata": {
        "colab": {
          "base_uri": "https://localhost:8080/"
        },
        "id": "GvuySBy3f2K7",
        "outputId": "50d1d9d4-3004-4d37-daf6-982600d25a33"
      },
      "execution_count": null,
      "outputs": [
        {
          "output_type": "stream",
          "name": "stdout",
          "text": [
            "Array: [1, 2, 3, 4, 5]\n"
          ]
        }
      ]
    },
    {
      "cell_type": "code",
      "source": [
        "# Accessing elements in an array\n",
        "first_element = numbers[0]\n",
        "last_element = numbers[-1]\n",
        "print(\"First element:\", first_element)\n",
        "print(\"Last element:\", last_element)\n"
      ],
      "metadata": {
        "colab": {
          "base_uri": "https://localhost:8080/"
        },
        "id": "N-t8o2e2f-0v",
        "outputId": "0e77167f-b92f-4339-e427-dfded761fb86"
      },
      "execution_count": null,
      "outputs": [
        {
          "output_type": "stream",
          "name": "stdout",
          "text": [
            "First element: 1\n",
            "Last element: 5\n"
          ]
        }
      ]
    },
    {
      "cell_type": "code",
      "source": [
        "# Adding elements to an array\n",
        "numbers.append(6)      # Adds to the end of the array\n",
        "numbers.insert(2, 10)  # Inserts 10 at index 2\n",
        "print(\"Array after adding elements:\", numbers)\n"
      ],
      "metadata": {
        "colab": {
          "base_uri": "https://localhost:8080/"
        },
        "id": "x_-H3KIIgAwA",
        "outputId": "48fc28e6-8051-4764-e578-ec683ce28954"
      },
      "execution_count": null,
      "outputs": [
        {
          "output_type": "stream",
          "name": "stdout",
          "text": [
            "Array after adding elements: [1, 2, 10, 3, 4, 5, 6]\n"
          ]
        }
      ]
    },
    {
      "cell_type": "code",
      "source": [
        "# Removing elements from an array\n",
        "numbers.remove(10)     # Removes the first occurrence of 10\n",
        "del numbers[0]         # Removes the element at index 0\n",
        "print(\"Array after removing elements:\", numbers)\n"
      ],
      "metadata": {
        "colab": {
          "base_uri": "https://localhost:8080/"
        },
        "id": "VaPaUqRIgCnQ",
        "outputId": "6c2fa146-0580-4bbc-8d4b-f8577367de38"
      },
      "execution_count": null,
      "outputs": [
        {
          "output_type": "stream",
          "name": "stdout",
          "text": [
            "Array after removing elements: [2, 3, 4, 5, 6]\n"
          ]
        }
      ]
    },
    {
      "cell_type": "code",
      "source": [
        "# Slicing an array\n",
        "sub_array = numbers[1:4]  # Gets elements from index 1 to 3\n",
        "print(\"Sliced array:\", sub_array)\n"
      ],
      "metadata": {
        "colab": {
          "base_uri": "https://localhost:8080/"
        },
        "id": "yVZwRS75gETL",
        "outputId": "ec4cce51-f85f-4a25-d02d-29998630f05c"
      },
      "execution_count": null,
      "outputs": [
        {
          "output_type": "stream",
          "name": "stdout",
          "text": [
            "Sliced array: [3, 4, 5]\n"
          ]
        }
      ]
    },
    {
      "cell_type": "code",
      "source": [
        "# Finding the length of an array\n",
        "length = len(numbers)\n",
        "print(\"Length of the array:\", length)\n"
      ],
      "metadata": {
        "colab": {
          "base_uri": "https://localhost:8080/"
        },
        "id": "36371FCLgGIB",
        "outputId": "1d0030f2-759b-4517-a9b0-f187df8cb016"
      },
      "execution_count": null,
      "outputs": [
        {
          "output_type": "stream",
          "name": "stdout",
          "text": [
            "Length of the array: 5\n"
          ]
        }
      ]
    },
    {
      "cell_type": "code",
      "source": [
        "# Iterating through an array\n",
        "for number in numbers:\n",
        "    print(number)\n"
      ],
      "metadata": {
        "colab": {
          "base_uri": "https://localhost:8080/"
        },
        "id": "jwFVtoUvgHyy",
        "outputId": "cd277e47-ed5b-4132-dd31-cf504b9c56a9"
      },
      "execution_count": null,
      "outputs": [
        {
          "output_type": "stream",
          "name": "stdout",
          "text": [
            "2\n",
            "3\n",
            "4\n",
            "5\n",
            "6\n"
          ]
        }
      ]
    },
    {
      "cell_type": "code",
      "source": [
        "# Sorting an array\n",
        "numbers.sort()         # Sorts the array in ascending order\n",
        "print(\"Sorted array:\", numbers)\n"
      ],
      "metadata": {
        "colab": {
          "base_uri": "https://localhost:8080/"
        },
        "id": "EA7v7fP1gJXC",
        "outputId": "f99d6a3c-210a-4d1f-d3ee-94ee864b6366"
      },
      "execution_count": null,
      "outputs": [
        {
          "output_type": "stream",
          "name": "stdout",
          "text": [
            "Sorted array: [2, 3, 4, 5, 6]\n"
          ]
        }
      ]
    },
    {
      "cell_type": "code",
      "source": [
        "# Finding the maximum and minimum values\n",
        "max_value = max(numbers)\n",
        "min_value = min(numbers)\n",
        "print(\"Maximum value:\", max_value)\n",
        "print(\"Minimum value:\", min_value)\n"
      ],
      "metadata": {
        "colab": {
          "base_uri": "https://localhost:8080/"
        },
        "id": "eXyvA16ogLV4",
        "outputId": "23d3f91b-67f3-4507-9cf6-7dcf7c45c577"
      },
      "execution_count": null,
      "outputs": [
        {
          "output_type": "stream",
          "name": "stdout",
          "text": [
            "Maximum value: 6\n",
            "Minimum value: 2\n"
          ]
        }
      ]
    },
    {
      "cell_type": "code",
      "source": [
        "# Summing all elements in an array\n",
        "total_sum = sum(numbers)\n",
        "print(\"Sum of all elements:\", total_sum)\n"
      ],
      "metadata": {
        "colab": {
          "base_uri": "https://localhost:8080/"
        },
        "id": "_Mv9XTzCgNLz",
        "outputId": "6096ae84-7e97-4653-bb0f-c33bf736bdfd"
      },
      "execution_count": null,
      "outputs": [
        {
          "output_type": "stream",
          "name": "stdout",
          "text": [
            "Sum of all elements: 20\n"
          ]
        }
      ]
    },
    {
      "cell_type": "code",
      "source": [
        "# List comprehension to create a new array with squared values\n",
        "squared_numbers = [x**2 for x in numbers]\n",
        "print(\"Squared numbers:\", squared_numbers)\n"
      ],
      "metadata": {
        "colab": {
          "base_uri": "https://localhost:8080/"
        },
        "id": "QdoTbZRNgPUb",
        "outputId": "204a77b9-12be-4e80-ab19-b58dab296c9b"
      },
      "execution_count": null,
      "outputs": [
        {
          "output_type": "stream",
          "name": "stdout",
          "text": [
            "Squared numbers: [4, 9, 16, 25, 36]\n"
          ]
        }
      ]
    },
    {
      "cell_type": "markdown",
      "source": [
        "### Working with List of Elements"
      ],
      "metadata": {
        "id": "5DLWHBFDg46z"
      }
    },
    {
      "cell_type": "code",
      "source": [
        "def reverse_list(lst):\n",
        "    return lst[::-1]\n",
        "\n",
        "# Example usage\n",
        "print(reverse_list([1, 2, 3, 4, 5]))\n"
      ],
      "metadata": {
        "colab": {
          "base_uri": "https://localhost:8080/"
        },
        "id": "Rg_G2gywhBrU",
        "outputId": "ea15e7a3-70fe-4513-940c-8f3e9a2da44f"
      },
      "execution_count": null,
      "outputs": [
        {
          "output_type": "stream",
          "name": "stdout",
          "text": [
            "[5, 4, 3, 2, 1]\n"
          ]
        }
      ]
    },
    {
      "cell_type": "code",
      "source": [
        "def count_occurrences(lst, element):\n",
        "    return lst.count(element)\n",
        "\n",
        "# Example usage\n",
        "print(count_occurrences([1, 2, 3, 2, 1, 2], 2))\n"
      ],
      "metadata": {
        "colab": {
          "base_uri": "https://localhost:8080/"
        },
        "id": "m5YcZq1fhGvF",
        "outputId": "ca9387f5-f48d-4114-ec07-57d0a4383037"
      },
      "execution_count": null,
      "outputs": [
        {
          "output_type": "stream",
          "name": "stdout",
          "text": [
            "3\n"
          ]
        }
      ]
    },
    {
      "cell_type": "code",
      "source": [
        "def find_duplicates(lst):\n",
        "    return list(set([x for x in lst if lst.count(x) > 1]))\n",
        "\n",
        "# Example usage\n",
        "print(find_duplicates([1, 2, 3, 2, 1, 4, 5]))\n"
      ],
      "metadata": {
        "colab": {
          "base_uri": "https://localhost:8080/"
        },
        "id": "3TNEd7CbhKAF",
        "outputId": "24c3c01b-676c-4142-d4d2-0a0039abf67d"
      },
      "execution_count": null,
      "outputs": [
        {
          "output_type": "stream",
          "name": "stdout",
          "text": [
            "[1, 2]\n"
          ]
        }
      ]
    },
    {
      "cell_type": "code",
      "source": [
        "def remove_duplicates(lst):\n",
        "    return list(set(lst))\n",
        "\n",
        "# Example usage\n",
        "print(remove_duplicates([1, 2, 3, 2, 1, 4, 5]))\n"
      ],
      "metadata": {
        "colab": {
          "base_uri": "https://localhost:8080/"
        },
        "id": "HEcF6a17hOOP",
        "outputId": "cc90657b-0d72-4bb6-d236-0305e6bb5a09"
      },
      "execution_count": null,
      "outputs": [
        {
          "output_type": "stream",
          "name": "stdout",
          "text": [
            "[1, 2, 3, 4, 5]\n"
          ]
        }
      ]
    },
    {
      "cell_type": "code",
      "source": [
        "def merge_lists(lst1, lst2):\n",
        "    return lst1 + lst2\n",
        "\n",
        "# Example usage\n",
        "print(merge_lists([1, 2, 3], [4, 5, 6]))\n"
      ],
      "metadata": {
        "colab": {
          "base_uri": "https://localhost:8080/"
        },
        "id": "q3prHg-2hQJO",
        "outputId": "4bffd339-2f73-4214-c43a-8c8e403544a1"
      },
      "execution_count": null,
      "outputs": [
        {
          "output_type": "stream",
          "name": "stdout",
          "text": [
            "[1, 2, 3, 4, 5, 6]\n"
          ]
        }
      ]
    },
    {
      "cell_type": "code",
      "source": [
        "def sort_list(lst):\n",
        "    return sorted(lst)\n",
        "\n",
        "# Example usage\n",
        "print(sort_list([5, 2, 9, 1, 5, 6]))\n"
      ],
      "metadata": {
        "colab": {
          "base_uri": "https://localhost:8080/"
        },
        "id": "V3kPvU5shR3O",
        "outputId": "109a71bf-0505-4611-bfb2-02b043fcf39c"
      },
      "execution_count": null,
      "outputs": [
        {
          "output_type": "stream",
          "name": "stdout",
          "text": [
            "[1, 2, 5, 5, 6, 9]\n"
          ]
        }
      ]
    },
    {
      "cell_type": "code",
      "source": [
        "def find_largest_smallest(lst):\n",
        "    return (max(lst), min(lst))\n",
        "\n",
        "# Example usage\n",
        "print(find_largest_smallest([3, 1, 4, 1, 5, 9, 2, 6]))\n"
      ],
      "metadata": {
        "colab": {
          "base_uri": "https://localhost:8080/"
        },
        "id": "N1f6YB1xhUJO",
        "outputId": "763b630a-8ba1-488e-807d-9622456907f5"
      },
      "execution_count": null,
      "outputs": [
        {
          "output_type": "stream",
          "name": "stdout",
          "text": [
            "(9, 1)\n"
          ]
        }
      ]
    },
    {
      "cell_type": "code",
      "source": [
        "def sum_elements(lst):\n",
        "    return sum(lst)\n",
        "\n",
        "# Example usage\n",
        "print(sum_elements([1, 2, 3, 4, 5]))"
      ],
      "metadata": {
        "colab": {
          "base_uri": "https://localhost:8080/"
        },
        "id": "y_orHWVYhV8m",
        "outputId": "ad40d9b1-abcc-4784-a6c5-d3850c8edb91"
      },
      "execution_count": null,
      "outputs": [
        {
          "output_type": "stream",
          "name": "stdout",
          "text": [
            "15\n"
          ]
        }
      ]
    },
    {
      "cell_type": "markdown",
      "source": [
        "OS File operations"
      ],
      "metadata": {
        "id": "9CnFst1Et-kP"
      }
    },
    {
      "cell_type": "markdown",
      "source": [],
      "metadata": {
        "id": "wk6K08nDuFpj"
      }
    },
    {
      "cell_type": "code",
      "source": [
        "\n",
        "import os\n",
        "\n",
        "# Specify the directory to list\n",
        "directory = '/content'\n",
        "\n",
        "# List all files and directories\n",
        "contents = os.listdir(directory)\n",
        "for item in contents:\n",
        "    print(item)"
      ],
      "metadata": {
        "colab": {
          "base_uri": "https://localhost:8080/"
        },
        "id": "X_mbPHVjuG2k",
        "outputId": "09b6f2b2-7bf4-4422-cd5f-4c06b4435572"
      },
      "execution_count": null,
      "outputs": [
        {
          "output_type": "stream",
          "name": "stdout",
          "text": [
            ".config\n",
            "sample_data\n"
          ]
        }
      ]
    },
    {
      "cell_type": "code",
      "source": [
        "\n",
        "import os\n",
        "\n",
        "# Create a new directory\n",
        "new_dir = 'test_dir'\n",
        "os.mkdir(new_dir)\n",
        "\n",
        "# Create a new file in the directory and write some text\n",
        "file_path = os.path.join(new_dir, 'test_file.txt')\n",
        "with open(file_path, 'w') as file:\n",
        "    file.write('Hello, world!')\n",
        "\n",
        "# Read and print the content of the file\n",
        "with open(file_path, 'r') as file:\n",
        "    content = file.read()\n",
        "    print(content)"
      ],
      "metadata": {
        "colab": {
          "base_uri": "https://localhost:8080/"
        },
        "id": "eevzsLqGuNIC",
        "outputId": "cf81a7c1-d83a-4260-eab9-8eb6165aa319"
      },
      "execution_count": null,
      "outputs": [
        {
          "output_type": "stream",
          "name": "stdout",
          "text": [
            "Hello, world!\n"
          ]
        }
      ]
    },
    {
      "cell_type": "code",
      "source": [
        "\n",
        "import os\n",
        "\n",
        "# Original file name and new file name\n",
        "original_file = 'content/test_file.txt'\n",
        "new_file = 'renamed_file.txt'\n",
        "\n",
        "# Rename the file\n",
        "os.rename(original_file, new_file)\n",
        "\n",
        "# Delete the file\n",
        "os.remove(new_file)"
      ],
      "metadata": {
        "colab": {
          "base_uri": "https://localhost:8080/",
          "height": 332
        },
        "id": "aCUIiqQUuVF3",
        "outputId": "2a34d1d1-2180-4c85-f85d-dcde2c2f5d8b"
      },
      "execution_count": null,
      "outputs": [
        {
          "output_type": "error",
          "ename": "FileNotFoundError",
          "evalue": "[Errno 2] No such file or directory: 'content/test_file.txt' -> 'renamed_file.txt'",
          "traceback": [
            "\u001b[0;31m---------------------------------------------------------------------------\u001b[0m",
            "\u001b[0;31mFileNotFoundError\u001b[0m                         Traceback (most recent call last)",
            "\u001b[0;32m<ipython-input-7-b5951eee3292>\u001b[0m in \u001b[0;36m<cell line: 8>\u001b[0;34m()\u001b[0m\n\u001b[1;32m      6\u001b[0m \u001b[0;34m\u001b[0m\u001b[0m\n\u001b[1;32m      7\u001b[0m \u001b[0;31m# Rename the file\u001b[0m\u001b[0;34m\u001b[0m\u001b[0;34m\u001b[0m\u001b[0m\n\u001b[0;32m----> 8\u001b[0;31m \u001b[0mos\u001b[0m\u001b[0;34m.\u001b[0m\u001b[0mrename\u001b[0m\u001b[0;34m(\u001b[0m\u001b[0moriginal_file\u001b[0m\u001b[0;34m,\u001b[0m \u001b[0mnew_file\u001b[0m\u001b[0;34m)\u001b[0m\u001b[0;34m\u001b[0m\u001b[0;34m\u001b[0m\u001b[0m\n\u001b[0m\u001b[1;32m      9\u001b[0m \u001b[0;34m\u001b[0m\u001b[0m\n\u001b[1;32m     10\u001b[0m \u001b[0;31m# Delete the file\u001b[0m\u001b[0;34m\u001b[0m\u001b[0;34m\u001b[0m\u001b[0m\n",
            "\u001b[0;31mFileNotFoundError\u001b[0m: [Errno 2] No such file or directory: 'content/test_file.txt' -> 'renamed_file.txt'"
          ]
        }
      ]
    },
    {
      "cell_type": "code",
      "source": [
        "\n",
        "import os\n",
        "\n",
        "# File and directory to check\n",
        "file_path = 'example.txt'\n",
        "dir_path = 'example_dir'\n",
        "\n",
        "# Check if file exists\n",
        "if os.path.exists(file_path):\n",
        "    print(f\"The file {file_path} exists.\")\n",
        "else:\n",
        "    print(f\"The file {file_path} does not exist.\")\n",
        "\n",
        "# Check if directory exists\n",
        "if os.path.exists(dir_path):\n",
        "    print(f\"The directory {dir_path} exists.\")\n",
        "else:\n",
        "    print(f\"The directory {dir_path} does not exist.\")"
      ],
      "metadata": {
        "colab": {
          "base_uri": "https://localhost:8080/"
        },
        "id": "mZcd3DpQuUH1",
        "outputId": "3121ffe9-15a1-4281-b316-fb52bcb672ea"
      },
      "execution_count": null,
      "outputs": [
        {
          "output_type": "stream",
          "name": "stdout",
          "text": [
            "The file example.txt does not exist.\n",
            "The directory example_dir does not exist.\n"
          ]
        }
      ]
    },
    {
      "cell_type": "code",
      "source": [
        "\n",
        "import os\n",
        "\n",
        "# Get the current working directory\n",
        "original_dir = os.getcwd()\n",
        "print(f\"Original directory: {original_dir}\")\n",
        "\n",
        "# Change to the new directory\n",
        "new_dir = 'test_dir'\n",
        "os.chdir(new_dir)\n",
        "print(f\"Changed to directory: {new_dir}\")\n",
        "\n",
        "# List the files in the new directory\n",
        "files = os.listdir('.')\n",
        "print(f\"Files in {new_dir}: {files}\")\n",
        "\n",
        "# Change back to the original directory\n",
        "os.chdir(original_dir)\n",
        "print(f\"Back to original directory: {original_dir}\")"
      ],
      "metadata": {
        "colab": {
          "base_uri": "https://localhost:8080/"
        },
        "id": "wtv850BmuUYY",
        "outputId": "37dcd978-b564-4778-e32f-f760365307d4"
      },
      "execution_count": null,
      "outputs": [
        {
          "output_type": "stream",
          "name": "stdout",
          "text": [
            "Original directory: /content\n",
            "Changed to directory: test_dir\n",
            "Files in test_dir: ['test_file.txt']\n",
            "Back to original directory: /content\n"
          ]
        }
      ]
    },
    {
      "cell_type": "markdown",
      "source": [
        "Simple Python Program"
      ],
      "metadata": {
        "id": "7r-9f6B2v5Zi"
      }
    },
    {
      "cell_type": "code",
      "source": [
        "\n",
        "# Function to calculate the area of a square\n",
        "def calculate_area_of_square(side_length):\n",
        "    \"\"\"Returns the area of a square given the side length.\"\"\"\n",
        "    area = side_length ** 2\n",
        "    return area\n",
        "\n",
        "# Main part of the program\n",
        "def main():\n",
        "    # Get the side length of the square from the user\n",
        "    side_length = float(input(\"Enter the side length of the square: \"))\n",
        "\n",
        "    # Call the function to calculate the area\n",
        "    area = calculate_area_of_square(side_length)\n",
        "\n",
        "    # Display the result\n",
        "    print(f\"The area of the square is: {area}\")\n",
        "\n",
        "# Call the main function\n",
        "if __name__ == \"__main__\":\n",
        "    main()"
      ],
      "metadata": {
        "colab": {
          "base_uri": "https://localhost:8080/"
        },
        "id": "iZbycm6iuUy0",
        "outputId": "5da34590-f9f0-41eb-aaa1-93693cde5e2d"
      },
      "execution_count": null,
      "outputs": [
        {
          "output_type": "stream",
          "name": "stdout",
          "text": [
            "Enter the side length of the square: 4\n",
            "The area of the square is: 16.0\n"
          ]
        }
      ]
    },
    {
      "cell_type": "code",
      "source": [
        "\n",
        "import os\n",
        "\n",
        "# Define the name of the file\n",
        "file_name = \"example.txt\"\n",
        "\n",
        "# Create and write to the file\n",
        "with open(file_name, 'w') as file:\n",
        "    file.write(\"Hello, this is a text file created in Python.\\n\")\n",
        "    file.write(\"You can write multiple lines.\\n\")\n",
        "    file.write(\"This is the third line.\")\n",
        "\n",
        "# Check if the file has been created\n",
        "if os.path.exists(file_name):\n",
        "    print(f\"The file '{file_name}' has been successfully created.\")\n",
        "else:\n",
        "    print(f\"The file '{file_name}' does not exist.\")"
      ],
      "metadata": {
        "colab": {
          "base_uri": "https://localhost:8080/"
        },
        "id": "K2kjsUdpuU-G",
        "outputId": "647bf0cf-cd45-491f-f2d0-a28cdde4bb13"
      },
      "execution_count": null,
      "outputs": [
        {
          "output_type": "stream",
          "name": "stdout",
          "text": [
            "The file 'example.txt' has been successfully created.\n"
          ]
        }
      ]
    },
    {
      "cell_type": "markdown",
      "source": [
        "### First Exrcise"
      ],
      "metadata": {
        "id": "dggvWoTFEBbg"
      }
    },
    {
      "cell_type": "code",
      "source": [
        "print('Hello all')"
      ],
      "metadata": {
        "colab": {
          "base_uri": "https://localhost:8080/"
        },
        "id": "3TLLxq-5EGrB",
        "outputId": "d7c2d1f1-06b7-457e-d26f-87309a3462e2"
      },
      "execution_count": 1,
      "outputs": [
        {
          "output_type": "stream",
          "name": "stdout",
          "text": [
            "Hello all\n"
          ]
        }
      ]
    },
    {
      "cell_type": "code",
      "source": [],
      "metadata": {
        "id": "s6wcgOuMEATC"
      },
      "execution_count": null,
      "outputs": []
    }
  ]
}